{
 "cells": [
  {
   "cell_type": "code",
   "execution_count": 9,
   "metadata": {},
   "outputs": [],
   "source": [
    "import numpy as np\n",
    "import matplotlib.pyplot as plt\n",
    "\n",
    "from database import Voltage, Current, Cell_Voltage, Charge, session"
   ]
  },
  {
   "cell_type": "code",
   "execution_count": 2,
   "metadata": {},
   "outputs": [],
   "source": [
    "x, charge = zip(*session.query(Charge.charge, Charge.charge).all())"
   ]
  },
  {
   "cell_type": "code",
   "execution_count": 3,
   "metadata": {},
   "outputs": [
    {
     "data": {
      "text/plain": [
       "5976"
      ]
     },
     "execution_count": 3,
     "metadata": {},
     "output_type": "execute_result"
    }
   ],
   "source": [
    "len(charge)"
   ]
  },
  {
   "cell_type": "code",
   "execution_count": 7,
   "metadata": {},
   "outputs": [
    {
     "data": {
      "image/png": "[encoded data removed]",
      "text/plain": [
       "<Figure size 432x288 with 1 Axes>"
      ]
     },
     "metadata": {
      "needs_background": "light"
     },
     "output_type": "display_data"
    }
   ],
   "source": [
    "plt.plot(charge)\n",
    "plt.show()\n"
   ]
  },
  {
   "cell_type": "code",
   "execution_count": 13,
   "metadata": {},
   "outputs": [],
   "source": [
    "current = session.query(Current.current).all()"
   ]
  },
  {
   "cell_type": "code",
   "execution_count": 14,
   "metadata": {},
   "outputs": [
    {
     "ename": "ModuleNotFoundError",
     "evalue": "No module named 'plotly'",
     "output_type": "error",
     "traceback": [
      "\u001b[0;31m---------------------------------------------------------------------------\u001b[0m",
      "\u001b[0;31mModuleNotFoundError\u001b[0m                       Traceback (most recent call last)",
      "\u001b[0;32m<ipython-input-14-6361d2547ebc>\u001b[0m in \u001b[0;36m<module>\u001b[0;34m\u001b[0m\n\u001b[0;32m----> 1\u001b[0;31m \u001b[0;32mimport\u001b[0m \u001b[0mplotly\u001b[0m\u001b[0;34m\u001b[0m\u001b[0;34m\u001b[0m\u001b[0m\n\u001b[0m",
      "\u001b[0;31mModuleNotFoundError\u001b[0m: No module named 'plotly'"
     ]
    }
   ],
   "source": [
    "import plotly"
   ]
  },
  {
   "cell_type": "code",
   "execution_count": 15,
   "metadata": {},
   "outputs": [
    {
     "name": "stdout",
     "output_type": "stream",
     "text": [
      "Looking in indexes: https://pypi.org/simple, https://www.piwheels.org/simple\n",
      "Collecting plotly\n",
      "\u001b[?25l  Downloading https://files.pythonhosted.org/packages/e3/67/eb2b2be7a63a66548abea92447fc04d9abf363520f1af6145c5f033cd1b3/plotly-4.3.0-py2.py3-none-any.whl (7.3MB)\n",
      "\u001b[K    100% |████████████████████████████████| 7.3MB 7.3kB/s ta 0:00:01  0% |▎                               | 51kB 546kB/s eta 0:00:14    3% |█                               | 235kB 491kB/s eta 0:00:15    4% |█▌                              | 337kB 461kB/s eta 0:00:16    6% |██                              | 450kB 560kB/s eta 0:00:13    7% |██▌                             | 563kB 617kB/s eta 0:00:11    11% |███▋                            | 819kB 569kB/s eta 0:00:12    13% |████▎                           | 962kB 603kB/s eta 0:00:11    13% |████▌                           | 1.0MB 597kB/s eta 0:00:11    15% |█████                           | 1.1MB 537kB/s eta 0:00:12    16% |█████▎                          | 1.2MB 426kB/s eta 0:00:15    18% |█████▉                          | 1.3MB 578kB/s eta 0:00:11    18% |██████                          | 1.4MB 622kB/s eta 0:00:10    19% |██████▏                         | 1.4MB 619kB/s eta 0:00:10    19% |██████▍                         | 1.5MB 579kB/s eta 0:00:11    22% |███████▎                        | 1.6MB 612kB/s eta 0:00:10    23% |███████▋                        | 1.7MB 592kB/s eta 0:00:10    28% |█████████                       | 2.0MB 558kB/s eta 0:00:10    29% |█████████▌                      | 2.2MB 473kB/s eta 0:00:11    30% |██████████                      | 2.3MB 532kB/s eta 0:00:10    31% |██████████                      | 2.3MB 586kB/s eta 0:00:09    37% |████████████                    | 2.7MB 508kB/s eta 0:00:09    38% |████████████▏                   | 2.8MB 492kB/s eta 0:00:10    40% |█████████████                   | 2.9MB 609kB/s eta 0:00:08    41% |█████████████▍                  | 3.0MB 528kB/s eta 0:00:09    42% |█████████████▋                  | 3.1MB 472kB/s eta 0:00:09    44% |██████████████▎                 | 3.2MB 592kB/s eta 0:00:07    45% |██████████████▌                 | 3.3MB 588kB/s eta 0:00:07    46% |███████████████                 | 3.4MB 579kB/s eta 0:00:07    47% |███████████████                 | 3.4MB 574kB/s eta 0:00:07    49% |███████████████▊                | 3.6MB 623kB/s eta 0:00:06    49% |████████████████                | 3.6MB 582kB/s eta 0:00:07    52% |████████████████▊               | 3.8MB 674kB/s eta 0:00:06    52% |█████████████████               | 3.8MB 617kB/s eta 0:00:06    53% |█████████████████▏              | 3.9MB 572kB/s eta 0:00:06    54% |█████████████████▌              | 4.0MB 511kB/s eta 0:00:07    55% |█████████████████▋              | 4.0MB 463kB/s eta 0:00:08    55% |█████████████████▉              | 4.0MB 447kB/s eta 0:00:08    56% |██████████████████              | 4.1MB 481kB/s eta 0:00:07    57% |██████████████████▍             | 4.2MB 605kB/s eta 0:00:06    58% |██████████████████▊             | 4.3MB 547kB/s eta 0:00:06    59% |███████████████████             | 4.3MB 594kB/s eta 0:00:05    59% |███████████████████▏            | 4.4MB 535kB/s eta 0:00:06    60% |███████████████████▌            | 4.4MB 577kB/s eta 0:00:05    63% |████████████████████▍           | 4.6MB 626kB/s eta 0:00:05    65% |████████████████████▉           | 4.7MB 576kB/s eta 0:00:05    66% |█████████████████████▎          | 4.8MB 629kB/s eta 0:00:04    67% |█████████████████████▌          | 4.9MB 657kB/s eta 0:00:04    67% |█████████████████████▊          | 4.9MB 589kB/s eta 0:00:04    69% |██████████████████████▎         | 5.1MB 438kB/s eta 0:00:06    70% |██████████████████████▌         | 5.1MB 463kB/s eta 0:00:05    72% |███████████████████████▎        | 5.3MB 578kB/s eta 0:00:04    74% |███████████████████████▊        | 5.4MB 588kB/s eta 0:00:04    77% |█████████████████████████       | 5.7MB 566kB/s eta 0:00:03    79% |█████████████████████████▍      | 5.8MB 597kB/s eta 0:00:03    79% |█████████████████████████▋      | 5.8MB 596kB/s eta 0:00:03    80% |█████████████████████████▉      | 5.9MB 554kB/s eta 0:00:03    81% |██████████████████████████▎     | 6.0MB 440kB/s eta 0:00:03    82% |██████████████████████████▌     | 6.0MB 512kB/s eta 0:00:03    84% |███████████████████████████     | 6.1MB 575kB/s eta 0:00:03    87% |████████████████████████████    | 6.4MB 475kB/s eta 0:00:02    88% |████████████████████████████▍   | 6.5MB 574kB/s eta 0:00:02    89% |████████████████████████████▋   | 6.5MB 571kB/s eta 0:00:02    90% |████████████████████████████▉   | 6.6MB 596kB/s eta 0:00:02    92% |█████████████████████████████▋  | 6.7MB 588kB/s eta 0:00:01    93% |█████████████████████████████▉  | 6.8MB 558kB/s eta 0:00:01    93% |██████████████████████████████  | 6.8MB 522kB/s eta 0:00:01    95% |██████████████████████████████▍ | 6.9MB 437kB/s eta 0:00:01    97% |███████████████████████████████▏| 7.1MB 647kB/s eta 0:00:01    98% |███████████████████████████████▌| 7.1MB 699kB/s eta 0:00:01    99% |███████████████████████████████▉| 7.2MB 675kB/s eta 0:00:01\n",
      "\u001b[?25hRequirement already satisfied: six in /root/workspace/lib/python3.7/site-packages (from plotly) (1.13.0)\n",
      "Collecting retrying>=1.3.3 (from plotly)\n",
      "  Downloading https://www.piwheels.org/simple/retrying/retrying-1.3.3-py3-none-any.whl\n",
      "Installing collected packages: retrying, plotly\n",
      "Successfully installed plotly-4.3.0 retrying-1.3.3\n"
     ]
    }
   ],
   "source": [
    "!pip install plotly"
   ]
  },
  {
   "cell_type": "code",
   "execution_count": 16,
   "metadata": {},
   "outputs": [],
   "source": [
    "import plotly"
   ]
  },
  {
   "cell_type": "code",
   "execution_count": 17,
   "metadata": {},
   "outputs": [
    {
     "data": {
      "text/plain": [
       "['__builtins__',\n",
       " '__cached__',\n",
       " '__doc__',\n",
       " '__file__',\n",
       " '__loader__',\n",
       " '__name__',\n",
       " '__package__',\n",
       " '__path__',\n",
       " '__spec__',\n",
       " '__version__',\n",
       " '_docstring_gen',\n",
       " '_version',\n",
       " '_widget_version',\n",
       " 'absolute_import',\n",
       " 'animation',\n",
       " 'basedatatypes',\n",
       " 'basewidget',\n",
       " 'callbacks',\n",
       " 'colors',\n",
       " 'data',\n",
       " 'exceptions',\n",
       " 'files',\n",
       " 'graph_objs',\n",
       " 'io',\n",
       " 'offline',\n",
       " 'optional_imports',\n",
       " 'serializers',\n",
       " 'subplots',\n",
       " 'tools',\n",
       " 'utils',\n",
       " 'validators',\n",
       " 'version']"
      ]
     },
     "execution_count": 17,
     "metadata": {},
     "output_type": "execute_result"
    }
   ],
   "source": [
    "dir(plotly)"
   ]
  },
  {
   "cell_type": "code",
   "execution_count": 19,
   "metadata": {},
   "outputs": [],
   "source": [
    "current2 = session.query(Current.timestamp, Current.current).all()"
   ]
  },
  {
   "cell_type": "code",
   "execution_count": 75,
   "metadata": {},
   "outputs": [],
   "source": [
    "# trying to save memory\n",
    "def diff_gen(seq):\n",
    "    last = seq[0][0]\n",
    "    for ts, *rest in seq[1:]:\n",
    "        yield (ts - last, ts, *rest)\n",
    "        last = ts\n",
    "\n",
    "\n",
    "def split_deltas(sequence):\n",
    "    diffs = tuple(diff_gen(sequence))\n",
    "    last_idx = 0\n",
    "    for (idx, (diff, *rest)) in enumerate(diffs):\n",
    "        if not 0 < diff.total_seconds() < 25:\n",
    "            yield diffs[last_idx:idx]\n",
    "            last_idx = idx\n",
    "\n",
    "            \n",
    "def get_chunks(sequence):\n",
    "    results = []\n",
    "    for diff, *data in split_deltas(sequence):\n",
    "        results.append(data)\n",
    "    return results\n",
    "\n",
    "\n",
    "def get_chunks_xy(sequence):\n",
    "    results = []\n",
    "    for diff, *data in split_deltas(sequence):\n",
    "        results.append(tuple(zip(*data))[1:])\n",
    "    return results\n"
   ]
  },
  {
   "cell_type": "code",
   "execution_count": 76,
   "metadata": {},
   "outputs": [],
   "source": [
    "results = get_chunks_xy(current2)"
   ]
  },
  {
   "cell_type": "code",
   "execution_count": 77,
   "metadata": {},
   "outputs": [
    {
     "data": {
      "text/plain": [
       "((datetime.datetime(2019, 11, 28, 16, 19, 25, 157897),\n",
       "  datetime.datetime(2019, 11, 28, 16, 19, 48, 57251)),\n",
       " (0.0, 0.3116171658039093))"
      ]
     },
     "execution_count": 77,
     "metadata": {},
     "output_type": "execute_result"
    }
   ],
   "source": []
  },
  {
   "cell_type": "code",
   "execution_count": null,
   "metadata": {},
   "outputs": [],
   "source": []
  }
 ],
 "metadata": {
  "kernelspec": {
   "display_name": "Python 3",
   "language": "python",
   "name": "python3"
  },
  "language_info": {
   "codemirror_mode": {
    "name": "ipython",
    "version": 3
   },
   "file_extension": ".py",
   "mimetype": "text/x-python",
   "name": "python",
   "nbconvert_exporter": "python",
   "pygments_lexer": "ipython3",
   "version": "3.7.3"
  }
 },
 "nbformat": 4,
 "nbformat_minor": 2
}
